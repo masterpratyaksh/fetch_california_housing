{
 "cells": [
  {
   "cell_type": "code",
   "execution_count": 2,
   "id": "a403d3c6-0fa0-41f9-bb77-897f820ef5c4",
   "metadata": {
    "scrolled": true
   },
   "outputs": [],
   "source": [
    "import pandas as pd \n",
    "import numpy as np\n",
    "import seaborn as sns\n",
    "import matplotlib.pyplot as plt \n",
    "from sklearn.datasets import fetch_california_housing \n",
    "housing =fetch_california_housing()\n",
    "df= pd.DataFrame(housing.data,columns=housing.feature_names)\n",
    "df['Price']=housing.target\n",
    "## EDA\n",
    "    ## correlation\n",
    "        ## more towords +1 is higly coreelated and more -1 in less correlated \n",
    "## if two feature are more correlated withe each other (around 8 to 9)we remove one of its feature\n",
    "## leanearty should be there in the model bt x and y\n",
    "\n",
    "#df.corr()\n",
    "##sns.pairplot(df)\n",
    "##plt.scatter(df['MedInc'],df['Price'])\n",
    "##sns.regplot(x=\"MedInc\",y=\"Price\",data=df)\n",
    "\n",
    "\n",
    "\n",
    "\n",
    "\n",
    "## Independent and Dependent features\n",
    "X=df.iloc[:,:-1]\n",
    "y=df.iloc[:,-1]\n",
    "\n",
    "\n",
    "## train test split\n",
    "from sklearn.model_selection import train_test_split\n",
    "X_train, X_test, y_train, y_test = train_test_split(\n",
    "    X, y, test_size=0.33, random_state=42)\n",
    "\n",
    "## Standardize the datasets \n",
    "## as our main goal is to reach as colse to glodel minima \n",
    "## all the data is calculated wrt to diffreent units \n",
    "\n",
    "\n",
    "from sklearn.preprocessing import StandardScaler\n",
    "scaler=StandardScaler()\n",
    "X_train=scaler.fit_transform(X_train)\n",
    "## same with the test data set also but some difference that is the same technic is to be use to transform the test dataset as done by the train data set\n",
    "## and to make sure that model does not know about the test data set\n",
    "X_test=scaler.transform(X_test)\n",
    "import pickle\n",
    "pickle.dump(scaler,open('scaling.pkl','wb'))\n",
    "\n",
    "\n",
    "\n",
    "\n",
    "\n",
    "### MODEL TRAINING\n",
    "from sklearn.linear_model import LinearRegression"
   ]
  },
  {
   "cell_type": "code",
   "execution_count": 4,
   "id": "8590600d",
   "metadata": {},
   "outputs": [
    {
     "data": {
      "text/plain": [
       "<matplotlib.collections.PathCollection at 0x16b49ea50>"
      ]
     },
     "execution_count": 4,
     "metadata": {},
     "output_type": "execute_result"
    },
    {
     "data": {
      "image/png": "[encoded data removed]",
      "text/plain": [
       "<Figure size 500x500 with 1 Axes>"
      ]
     },
     "metadata": {},
     "output_type": "display_data"
    }
   ],
   "source": [
    "\n",
    "reg = LinearRegression()\n",
    "## creating a hyperplane by useing fit()\n",
    "reg.fit(X_train,y_train)\n",
    "\n",
    "## print the coefficients and intercept \n",
    "#print(reg.coef_)\n",
    "## these number shows that the increse in one feature by one has increses 8* in price\n",
    "#print(reg.intercept_)\n",
    "reg_pred=reg.predict(X_test)\n",
    "#reg_pred\n",
    "\n",
    "\n",
    "##plot a scatter plot for the prediction\n",
    "#plt.scatter(y_test,reg_pred)\n",
    "\n",
    "## residuals \n",
    " ## it is the margen of error bt test data set and the predicred \n",
    "\n",
    "residuals=y_test-reg_pred\n",
    "## ploting the residual \n",
    "sns.displot(residuals,kind=\"kde\")\n",
    "## scatter plot with respect to prediction and residual \n",
    "plt.scatter(reg_pred,residuals)\n",
    "\n",
    "\n"
   ]
  },
  {
   "cell_type": "markdown",
   "id": "fd77db62-17c6-4e32-8a8b-f9ca488a762b",
   "metadata": {},
   "source": [
    "## performance  matrix"
   ]
  },
  {
   "cell_type": "code",
   "execution_count": 5,
   "id": "6e267655-24a0-416f-8aa0-c6429637f403",
   "metadata": {},
   "outputs": [
    {
     "name": "stdout",
     "output_type": "stream",
     "text": [
      "0.5369686543372463\n",
      "0.529571010668445\n",
      "0.7327814505957737\n"
     ]
    }
   ],
   "source": [
    "from sklearn.metrics import mean_squared_error\n",
    "from sklearn.metrics import mean_absolute_error\n",
    "print( mean_squared_error(y_test,reg_pred))\n",
    "print(mean_absolute_error(y_test,reg_pred))\n",
    "## root mean squared error\n",
    "print(np.sqrt( mean_squared_error(y_test,reg_pred)))"
   ]
  },
  {
   "cell_type": "code",
   "execution_count": 6,
   "id": "a85ec7cd-26cf-41ca-9d66-01f930ad7011",
   "metadata": {},
   "outputs": [
    {
     "name": "stdout",
     "output_type": "stream",
     "text": [
      "0.5970494128783951\n"
     ]
    }
   ],
   "source": [
    "## R square and adjsted \n",
    "from sklearn.metrics import r2_score\n",
    "score=r2_score(y_test,reg_pred)\n",
    "print(score)\n",
    "## more towords to +1 instead is good"
   ]
  },
  {
   "cell_type": "code",
   "execution_count": 7,
   "id": "dd1c85e4-5ef7-46a3-b10e-bb55ac4c0a53",
   "metadata": {},
   "outputs": [
    {
     "data": {
      "text/plain": [
       "0.5965755624158091"
      ]
     },
     "execution_count": 7,
     "metadata": {},
     "output_type": "execute_result"
    }
   ],
   "source": [
    "## adjusted r2\n",
    "1-(1-score)*(len(y_test)-1)/(len(y_test)-X_test.shape[1]-1)\n",
    "## adjusted r2 shoud be always less then the R square"
   ]
  },
  {
   "cell_type": "markdown",
   "id": "72c2d6c6-42f3-40ce-affe-9d70b7e5f2c8",
   "metadata": {},
   "source": [
    "NEW DATA PREDICTION\n",
    "\n"
   ]
  },
  {
   "cell_type": "code",
   "execution_count": 8,
   "id": "232582eb-632b-4ffc-bbb0-af47b4f564c2",
   "metadata": {},
   "outputs": [
    {
     "name": "stderr",
     "output_type": "stream",
     "text": [
      "/opt/anaconda3/lib/python3.12/site-packages/sklearn/base.py:493: UserWarning: X does not have valid feature names, but StandardScaler was fitted with feature names\n",
      "  warnings.warn(\n",
      "/opt/anaconda3/lib/python3.12/site-packages/sklearn/base.py:493: UserWarning: X does not have valid feature names, but StandardScaler was fitted with feature names\n",
      "  warnings.warn(\n"
     ]
    },
    {
     "data": {
      "text/plain": [
       "array([4.13419021])"
      ]
     },
     "execution_count": 8,
     "metadata": {},
     "output_type": "execute_result"
    }
   ],
   "source": [
    "## we had allready tested the dataset X_test that is in bulk but in real time the data is in small chunks\n",
    "housing.data[0].shape\n",
    "## it's in one dimention. but we train our model for two dim.\n",
    "housing.data[0].reshape(1,-1)\n",
    "##reg.predict(housing.data[0].reshape(1,-1))\n",
    "\n",
    "\n",
    "## but here we miss to standerzing our data\n",
    "    ##transformation of new data\n",
    "scaler.transform(housing.data[0].reshape(1,-1))\n",
    "reg.predict(scaler.transform(housing.data[0].reshape(1,-1)))\n",
    "                        "
   ]
  },
  {
   "cell_type": "markdown",
   "id": "906665d0-6f2d-4309-b7fe-5e56c35a2d48",
   "metadata": {},
   "source": [
    "pickling the model file for deployment"
   ]
  },
  {
   "cell_type": "code",
   "execution_count": 9,
   "id": "bc39d1e4-1904-4a36-87b7-5b47969ad753",
   "metadata": {},
   "outputs": [
    {
     "name": "stderr",
     "output_type": "stream",
     "text": [
      "/opt/anaconda3/lib/python3.12/site-packages/sklearn/base.py:493: UserWarning: X does not have valid feature names, but StandardScaler was fitted with feature names\n",
      "  warnings.warn(\n"
     ]
    },
    {
     "data": {
      "text/plain": [
       "array([4.13419021])"
      ]
     },
     "execution_count": 9,
     "metadata": {},
     "output_type": "execute_result"
    }
   ],
   "source": [
    "import pickle\n",
    "pickle.dump(reg,open('regmodel.pkl','wb'))\n",
    "## pickle can also be loadedc\n",
    "pickle_model=pickle.load(open('regmodel.pkl','rb'))\n",
    "pickle_model.predict(scaler.transform(housing.data[0].reshape(1,-1)))\n",
    "## same output"
   ]
  }
 ],
 "metadata": {
  "kernelspec": {
   "display_name": "Python 3 (ipykernel)",
   "language": "python",
   "name": "python3"
  },
  "language_info": {
   "codemirror_mode": {
    "name": "ipython",
    "version": 3
   },
   "file_extension": ".py",
   "mimetype": "text/x-python",
   "name": "python",
   "nbconvert_exporter": "python",
   "pygments_lexer": "ipython3",
   "version": "3.12.7"
  }
 },
 "nbformat": 4,
 "nbformat_minor": 5
}
